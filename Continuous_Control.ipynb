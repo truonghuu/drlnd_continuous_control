{
 "cells": [
  {
   "cell_type": "markdown",
   "metadata": {},
   "source": [
    "# Continuous Control\n",
    "\n",
    "---\n",
    "\n",
    "You are welcome to use this coding environment to train your agent for the project.  Follow the instructions below to get started!\n",
    "\n",
    "### 1. Start the Environment\n",
    "\n",
    "Run the next code cell to install a few packages.  This line will take a few minutes to run!"
   ]
  },
  {
   "cell_type": "code",
   "execution_count": null,
   "metadata": {},
   "outputs": [],
   "source": [
    "!pip -q install ./python"
   ]
  },
  {
   "cell_type": "markdown",
   "metadata": {},
   "source": [
    "The environments corresponding to both versions of the environment are already saved in the Workspace and can be accessed at the file paths provided below.  \n",
    "\n",
    "Please select one of the two options below for loading the environment."
   ]
  },
  {
   "cell_type": "code",
   "execution_count": 1,
   "metadata": {},
   "outputs": [
    {
     "name": "stderr",
     "output_type": "stream",
     "text": [
      "INFO:unityagents:\n",
      "'Academy' started successfully!\n",
      "Unity Academy name: Academy\n",
      "        Number of Brains: 1\n",
      "        Number of External Brains : 1\n",
      "        Lesson number : 0\n",
      "        Reset Parameters :\n",
      "\t\tgoal_speed -> 1.0\n",
      "\t\tgoal_size -> 5.0\n",
      "Unity brain name: ReacherBrain\n",
      "        Number of Visual Observations (per agent): 0\n",
      "        Vector Observation space type: continuous\n",
      "        Vector Observation space size (per agent): 33\n",
      "        Number of stacked Vector Observation: 1\n",
      "        Vector Action space type: continuous\n",
      "        Vector Action space size (per agent): 4\n",
      "        Vector Action descriptions: , , , \n"
     ]
    }
   ],
   "source": [
    "from unityagents import UnityEnvironment\n",
    "import numpy as np\n",
    "\n",
    "# select this option to load version 1 (with a single agent) of the environment\n",
    "env = UnityEnvironment(file_name='/home/tram/deep-reinforcement-learning/p2_continuous-control/Reacher_Linux/Reacher.x86_64')\n",
    "\n",
    "# select this option to load version 2 (with 20 agents) of the environment\n",
    "# env = UnityEnvironment(file_name='/data/Reacher_Linux_NoVis/Reacher.x86_64')"
   ]
  },
  {
   "cell_type": "markdown",
   "metadata": {},
   "source": [
    "Environments contain **_brains_** which are responsible for deciding the actions of their associated agents. Here we check for the first brain available, and set it as the default brain we will be controlling from Python."
   ]
  },
  {
   "cell_type": "code",
   "execution_count": 2,
   "metadata": {},
   "outputs": [],
   "source": [
    "# get the default brain\n",
    "brain_name = env.brain_names[0]\n",
    "brain = env.brains[brain_name]"
   ]
  },
  {
   "cell_type": "markdown",
   "metadata": {},
   "source": [
    "### 2. Examine the State and Action Spaces\n",
    "\n",
    "Run the code cell below to print some information about the environment."
   ]
  },
  {
   "cell_type": "code",
   "execution_count": 3,
   "metadata": {},
   "outputs": [
    {
     "name": "stdout",
     "output_type": "stream",
     "text": [
      "Number of agents: 1\n",
      "Size of each action: 4\n",
      "There are 1 agents. Each observes a state with length: 33\n",
      "The state for the first agent looks like: [ 0.00000000e+00 -4.00000000e+00  0.00000000e+00  1.00000000e+00\n",
      " -0.00000000e+00 -0.00000000e+00 -4.37113883e-08  0.00000000e+00\n",
      "  0.00000000e+00  0.00000000e+00  0.00000000e+00  0.00000000e+00\n",
      "  0.00000000e+00  0.00000000e+00 -1.00000000e+01  0.00000000e+00\n",
      "  1.00000000e+00 -0.00000000e+00 -0.00000000e+00 -4.37113883e-08\n",
      "  0.00000000e+00  0.00000000e+00  0.00000000e+00  0.00000000e+00\n",
      "  0.00000000e+00  0.00000000e+00  5.75471878e+00 -1.00000000e+00\n",
      "  5.55726671e+00  0.00000000e+00  1.00000000e+00  0.00000000e+00\n",
      " -1.68164849e-01]\n"
     ]
    }
   ],
   "source": [
    "# reset the environment\n",
    "env_info = env.reset(train_mode=True)[brain_name]\n",
    "\n",
    "# number of agents\n",
    "num_agents = len(env_info.agents)\n",
    "print('Number of agents:', num_agents)\n",
    "\n",
    "# size of each action\n",
    "action_size = brain.vector_action_space_size\n",
    "print('Size of each action:', action_size)\n",
    "\n",
    "# examine the state space \n",
    "states = env_info.vector_observations\n",
    "state_size = states.shape[1]\n",
    "print('There are {} agents. Each observes a state with length: {}'.format(states.shape[0], state_size))\n",
    "print('The state for the first agent looks like:', states[0])"
   ]
  },
  {
   "cell_type": "markdown",
   "metadata": {},
   "source": [
    "### 3. Take Random Actions in the Environment\n",
    "\n",
    "In the next code cell, you will learn how to use the Python API to control the agent and receive feedback from the environment.\n",
    "\n",
    "Note that **in this coding environment, you will not be able to watch the agents while they are training**, and you should set `train_mode=True` to restart the environment."
   ]
  },
  {
   "cell_type": "code",
   "execution_count": 4,
   "metadata": {},
   "outputs": [
    {
     "name": "stdout",
     "output_type": "stream",
     "text": [
      "Total score (averaged over agents) this episode: 0.08999999798834324\n"
     ]
    }
   ],
   "source": [
    "env_info = env.reset(train_mode=True)[brain_name]      # reset the environment    \n",
    "states = env_info.vector_observations                  # get the current state (for each agent)\n",
    "scores = np.zeros(num_agents)                          # initialize the score (for each agent)\n",
    "while True:\n",
    "    actions = np.random.randn(num_agents, action_size) # select an action (for each agent)\n",
    "    actions = np.clip(actions, -1, 1)                  # all actions between -1 and 1\n",
    "    env_info = env.step(actions)[brain_name]           # send all actions to tne environment\n",
    "    next_states = env_info.vector_observations         # get next state (for each agent)\n",
    "    rewards = env_info.rewards                         # get reward (for each agent)\n",
    "    dones = env_info.local_done                        # see if episode finished\n",
    "    scores += env_info.rewards                         # update the score (for each agent)\n",
    "    states = next_states                               # roll over states to next time step\n",
    "    if np.any(dones):                                  # exit loop if episode finished\n",
    "        break\n",
    "print('Total score (averaged over agents) this episode: {}'.format(np.mean(scores)))"
   ]
  },
  {
   "cell_type": "markdown",
   "metadata": {},
   "source": [
    "### 4. Training Agent with DDPG"
   ]
  },
  {
   "cell_type": "markdown",
   "metadata": {},
   "source": [
    "In this section, we train a DDPG-based agent that will learn and take actions in the environment. The neural networks for Actor and Critic are defined in file model.py. The DDPG-based agent is implemented in file agent.py. Run the cell below to import neccessary libraries and Agent class. Excluding the input and output layers, the neural networks for Actor and Critic have 3 hidden layers with (256, 128, 64) hidden nodes, respectively. "
   ]
  },
  {
   "cell_type": "code",
   "execution_count": 5,
   "metadata": {},
   "outputs": [],
   "source": [
    "import torch\n",
    "from collections import deque\n",
    "import matplotlib.pyplot as plt\n",
    "\n",
    "from agent import Agent\n",
    "\n",
    "agent = Agent(state_size, action_size, random_seed=42)"
   ]
  },
  {
   "cell_type": "markdown",
   "metadata": {},
   "source": [
    "We implement the DDPG algorithm in the cell below to train the agent."
   ]
  },
  {
   "cell_type": "code",
   "execution_count": 6,
   "metadata": {},
   "outputs": [],
   "source": [
    "def ddpg(nb_episodes=5000, max_steps=10000):\n",
    "    \"\"\"Train the agent with DDPG algorithm\n",
    "    \n",
    "    Params\n",
    "    ======\n",
    "        n_episodes (int): maximum number of training episodes\n",
    "        max_t (int): maximum number of timesteps per episode\n",
    "    \"\"\"\n",
    "    \n",
    "    scores = []\n",
    "    scores_deque = deque(maxlen=100)\n",
    "    \n",
    "    for i in range(nb_episodes):\n",
    "        env_info = env.reset(train_mode=True)[brain_name]\n",
    "        agent.reset()\n",
    "        state = env_info.vector_observations[0]            # get the current state\n",
    "        score = 0\n",
    "        \n",
    "        for t in range(max_steps):\n",
    "            action = agent.act(state)          # select an action\n",
    "       \n",
    "            env_info = env.step(action)[brain_name]        # send the action to the environment\n",
    "            next_state = env_info.vector_observations[0]   # get the next state\n",
    "            reward = env_info.rewards[0]                   # get the reward\n",
    "            done = env_info.local_done[0]                  # see if episode has finished\n",
    "            agent.step(state, action, reward, next_state, done) # take step with agent (including learning)\n",
    "            score += reward                                # update the score\n",
    "            state = next_state                             # roll over the state to next time step\n",
    "            if done:                                       # exit loop if episode finished\n",
    "                break\n",
    "        \n",
    "        scores_deque.append(score)       # save most recent score to compute the average\n",
    "        scores.append(score)             # save score of the episode for plotting purpose  \n",
    "        \n",
    "        if i%20 == 0:\n",
    "            print('\\rEpisode {}\\tScore: {:.2f}\\tAverage Score: {:.2f}'.format(i, score, np.mean(scores_deque)))\n",
    "        \n",
    "        if np.mean(scores_deque)>=30.0:\n",
    "            print('\\nEnvironment solved in {:d} Episodes \\tAverage Score: {:.2f}'.format(i, np.mean(scores_deque)))\n",
    "            torch.save(agent.actor_local.state_dict(), 'checkpoint_actor.pth')\n",
    "            torch.save(agent.critic_local.state_dict(), 'checkpoint_critic.pth')\n",
    "            break\n",
    "            \n",
    "    return scores"
   ]
  },
  {
   "cell_type": "markdown",
   "metadata": {},
   "source": [
    "Run the cell below to train the agent and plot the reward after solving the environment."
   ]
  },
  {
   "cell_type": "code",
   "execution_count": 7,
   "metadata": {
    "scrolled": false
   },
   "outputs": [
    {
     "name": "stdout",
     "output_type": "stream",
     "text": [
      "Episode 0\tScore: 0.99\tAverage Score: 0.99\n",
      "Episode 20\tScore: 3.16\tAverage Score: 1.47\n",
      "Episode 40\tScore: 7.03\tAverage Score: 3.14\n",
      "Episode 60\tScore: 8.66\tAverage Score: 4.48\n",
      "Episode 80\tScore: 5.56\tAverage Score: 5.06\n",
      "Episode 100\tScore: 7.39\tAverage Score: 5.46\n",
      "Episode 120\tScore: 11.62\tAverage Score: 6.51\n",
      "Episode 140\tScore: 8.62\tAverage Score: 6.98\n",
      "Episode 160\tScore: 23.41\tAverage Score: 8.13\n",
      "Episode 180\tScore: 19.40\tAverage Score: 10.48\n",
      "Episode 200\tScore: 29.68\tAverage Score: 13.87\n",
      "Episode 220\tScore: 30.06\tAverage Score: 16.53\n",
      "Episode 240\tScore: 31.94\tAverage Score: 19.68\n",
      "Episode 260\tScore: 34.15\tAverage Score: 23.11\n",
      "Episode 280\tScore: 33.78\tAverage Score: 24.73\n",
      "Episode 300\tScore: 17.59\tAverage Score: 25.27\n",
      "Episode 320\tScore: 22.61\tAverage Score: 26.40\n",
      "Episode 340\tScore: 20.97\tAverage Score: 25.80\n",
      "Episode 360\tScore: 30.17\tAverage Score: 24.23\n",
      "Episode 380\tScore: 28.55\tAverage Score: 23.82\n",
      "Episode 400\tScore: 13.46\tAverage Score: 23.32\n",
      "Episode 420\tScore: 23.84\tAverage Score: 21.96\n",
      "Episode 440\tScore: 16.10\tAverage Score: 22.14\n",
      "Episode 460\tScore: 16.13\tAverage Score: 21.82\n",
      "Episode 480\tScore: 23.50\tAverage Score: 21.57\n",
      "Episode 500\tScore: 13.59\tAverage Score: 20.38\n",
      "Episode 520\tScore: 20.96\tAverage Score: 19.96\n",
      "Episode 540\tScore: 3.75\tAverage Score: 19.39\n",
      "Episode 560\tScore: 8.75\tAverage Score: 18.18\n",
      "Episode 580\tScore: 4.68\tAverage Score: 16.80\n",
      "Episode 600\tScore: 6.36\tAverage Score: 15.04\n",
      "Episode 620\tScore: 4.57\tAverage Score: 13.47\n",
      "Episode 640\tScore: 10.09\tAverage Score: 11.40\n",
      "Episode 660\tScore: 3.87\tAverage Score: 9.43\n",
      "Episode 680\tScore: 5.21\tAverage Score: 7.60\n",
      "Episode 700\tScore: 12.93\tAverage Score: 7.58\n",
      "Episode 720\tScore: 9.58\tAverage Score: 7.11\n",
      "Episode 740\tScore: 3.42\tAverage Score: 7.29\n",
      "Episode 760\tScore: 0.57\tAverage Score: 7.00\n",
      "Episode 780\tScore: 0.27\tAverage Score: 5.76\n",
      "Episode 800\tScore: 1.45\tAverage Score: 4.29\n",
      "Episode 820\tScore: 2.43\tAverage Score: 3.21\n",
      "Episode 840\tScore: 1.27\tAverage Score: 1.94\n",
      "Episode 860\tScore: 0.64\tAverage Score: 1.69\n",
      "Episode 880\tScore: 1.62\tAverage Score: 1.72\n",
      "Episode 900\tScore: 0.88\tAverage Score: 2.18\n",
      "Episode 920\tScore: 1.85\tAverage Score: 2.20\n",
      "Episode 940\tScore: 3.11\tAverage Score: 2.24\n",
      "Episode 960\tScore: 4.85\tAverage Score: 2.18\n",
      "Episode 980\tScore: 0.96\tAverage Score: 2.33\n",
      "Episode 1000\tScore: 2.54\tAverage Score: 1.87\n",
      "Episode 1020\tScore: 2.72\tAverage Score: 2.07\n",
      "Episode 1040\tScore: 0.43\tAverage Score: 2.11\n",
      "Episode 1060\tScore: 2.32\tAverage Score: 2.31\n",
      "Episode 1080\tScore: 1.41\tAverage Score: 2.24\n",
      "Episode 1100\tScore: 1.42\tAverage Score: 2.24\n",
      "Episode 1120\tScore: 1.55\tAverage Score: 2.14\n",
      "Episode 1140\tScore: 6.98\tAverage Score: 2.14\n",
      "Episode 1160\tScore: 1.51\tAverage Score: 2.03\n",
      "Episode 1180\tScore: 0.31\tAverage Score: 2.17\n",
      "Episode 1200\tScore: 1.35\tAverage Score: 2.22\n",
      "Episode 1220\tScore: 0.26\tAverage Score: 3.33\n",
      "Episode 1240\tScore: 0.91\tAverage Score: 3.72\n",
      "Episode 1260\tScore: 0.92\tAverage Score: 4.01\n",
      "Episode 1280\tScore: 4.04\tAverage Score: 4.19\n",
      "Episode 1300\tScore: 15.23\tAverage Score: 4.57\n",
      "Episode 1320\tScore: 2.20\tAverage Score: 4.75\n",
      "Episode 1340\tScore: 6.52\tAverage Score: 6.24\n",
      "Episode 1360\tScore: 1.64\tAverage Score: 6.64\n",
      "Episode 1380\tScore: 0.85\tAverage Score: 8.17\n",
      "Episode 1400\tScore: 17.84\tAverage Score: 9.75\n",
      "Episode 1420\tScore: 32.63\tAverage Score: 13.56\n",
      "Episode 1440\tScore: 16.03\tAverage Score: 15.46\n",
      "Episode 1460\tScore: 4.19\tAverage Score: 18.48\n",
      "Episode 1480\tScore: 7.48\tAverage Score: 19.98\n",
      "Episode 1500\tScore: 23.15\tAverage Score: 22.43\n",
      "Episode 1520\tScore: 15.99\tAverage Score: 22.40\n",
      "Episode 1540\tScore: 32.00\tAverage Score: 23.69\n",
      "Episode 1560\tScore: 31.23\tAverage Score: 26.64\n",
      "Episode 1580\tScore: 33.91\tAverage Score: 28.99\n",
      "\n",
      "Environment solved in 1592 Episodes \tAverage Score: 30.13\n"
     ]
    },
    {
     "data": {
      "image/png": "[encoded data removed]",
      "text/plain": [
       "<Figure size 432x288 with 1 Axes>"
      ]
     },
     "metadata": {
      "needs_background": "light"
     },
     "output_type": "display_data"
    }
   ],
   "source": [
    "scores = ddpg()\n",
    "\n",
    "fig = plt.figure()\n",
    "ax = fig.add_subplot(111)\n",
    "plt.plot(np.arange(len(scores)), scores)\n",
    "plt.ylabel('Score')\n",
    "plt.xlabel('Episode #')\n",
    "plt.show()"
   ]
  },
  {
   "cell_type": "markdown",
   "metadata": {},
   "source": [
    "When finished, you can close the environment."
   ]
  },
  {
   "cell_type": "code",
   "execution_count": 9,
   "metadata": {},
   "outputs": [],
   "source": [
    "env.close()"
   ]
  },
  {
   "cell_type": "markdown",
   "metadata": {},
   "source": [
    "### 5. It's Your Turn!\n",
    "\n",
    "Now it's your turn to train your own agent to solve the environment!  A few **important notes**:\n",
    "- When training the environment, set `train_mode=True`, so that the line for resetting the environment looks like the following:\n",
    "```python\n",
    "env_info = env.reset(train_mode=True)[brain_name]\n",
    "```\n",
    "- To structure your work, you're welcome to work directly in this Jupyter notebook, or you might like to start over with a new file!  You can see the list of files in the workspace by clicking on **_Jupyter_** in the top left corner of the notebook.\n",
    "- In this coding environment, you will not be able to watch the agents while they are training.  However, **_after training the agents_**, you can download the saved model weights to watch the agents on your own machine! "
   ]
  }
 ],
 "metadata": {
  "kernelspec": {
   "display_name": "drlnd",
   "language": "python",
   "name": "drlnd"
  },
  "language_info": {
   "codemirror_mode": {
    "name": "ipython",
    "version": 3
   },
   "file_extension": ".py",
   "mimetype": "text/x-python",
   "name": "python",
   "nbconvert_exporter": "python",
   "pygments_lexer": "ipython3",
   "version": "3.6.10"
  }
 },
 "nbformat": 4,
 "nbformat_minor": 2
}
